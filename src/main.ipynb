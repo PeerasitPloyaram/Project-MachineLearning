{
 "cells": [
  {
   "cell_type": "code",
   "execution_count": 201,
   "metadata": {},
   "outputs": [],
   "source": [
    "import numpy as np\n",
    "import pandas as pd\n",
    "import matplotlib.pyplot as plt\n",
    "\n",
    "from sklearn import svm\n",
    "from sklearn.metrics import f1_score\n",
    "from sklearn import metrics\n",
    "from sklearn.metrics import classification_report"
   ]
  },
  {
   "cell_type": "code",
   "execution_count": 202,
   "metadata": {},
   "outputs": [],
   "source": [
    "df = pd.read_csv('../data/waterQuality1.csv')\n",
    "# https://www.kaggle.com/datasets/mssmartypants/water-quality/data"
   ]
  },
  {
   "cell_type": "code",
   "execution_count": 203,
   "metadata": {},
   "outputs": [],
   "source": [
    "df = df.drop(df[df['ammonia'] == \"#NUM!\"].index)\n",
    "df['ammonia'] = df['ammonia'].astype('float')\n",
    "df['is_safe'] = df['is_safe'].astype('float')"
   ]
  },
  {
   "cell_type": "code",
   "execution_count": 204,
   "metadata": {},
   "outputs": [],
   "source": [
    "# df.info()"
   ]
  },
  {
   "cell_type": "code",
   "execution_count": 205,
   "metadata": {},
   "outputs": [],
   "source": [
    "\n",
    "x = np.array(df.drop(['is_safe'], axis=1))\n",
    "y = np.array(df['is_safe'].copy())"
   ]
  },
  {
   "cell_type": "code",
   "execution_count": 206,
   "metadata": {},
   "outputs": [
    {
     "name": "stdout",
     "output_type": "stream",
     "text": [
      "Data  Size: 7996\n",
      "Train Size: 6397\n",
      "Test  Size: 1599\n",
      "Train Size + Test Size: 7996\n"
     ]
    },
    {
     "data": {
      "text/plain": [
       "array([[4.000e-02, 2.546e+01, 1.000e-02, ..., 6.000e-02, 1.900e-01,\n",
       "        6.000e-02],\n",
       "       [2.290e+00, 5.420e+00, 1.800e-01, ..., 5.000e-02, 1.000e-01,\n",
       "        8.000e-02],\n",
       "       [1.000e-02, 2.551e+01, 4.000e-02, ..., 2.000e-02, 1.000e-01,\n",
       "        4.000e-02],\n",
       "       ...,\n",
       "       [8.000e-02, 9.880e+00, 3.000e-02, ..., 9.000e-02, 1.000e-02,\n",
       "        7.000e-02],\n",
       "       [3.100e-01, 1.238e+01, 3.900e-01, ..., 8.000e-02, 3.200e-01,\n",
       "        0.000e+00],\n",
       "       [2.700e+00, 1.413e+01, 4.000e-02, ..., 6.000e-02, 5.000e-02,\n",
       "        2.000e-02]])"
      ]
     },
     "execution_count": 206,
     "metadata": {},
     "output_type": "execute_result"
    }
   ],
   "source": [
    "from model_selection import train_test_split\n",
    "x_train,x_test,y_train,y_test = train_test_split(x,y, testsize=0.2, debug=True)\n",
    "x_train\n"
   ]
  },
  {
   "cell_type": "code",
   "execution_count": 207,
   "metadata": {},
   "outputs": [],
   "source": [
    "class SupportVectorMachine:\n",
    "    def __init__(self, C=10, kernel='linear', learning_rate=0.001, lambda_param=0.01, n_iters=1000, debug=False) -> None:\n",
    "        self.c = C\n",
    "        self.kernel = kernel\n",
    "\n",
    "        self.w = None\n",
    "        self.b = None\n",
    "        self.lerning_rate = learning_rate\n",
    "        self.lambda_param = lambda_param\n",
    "        self.n_iters = n_iters\n",
    "\n",
    "        if debug:\n",
    "            print(\"C: {}\\nLearning Rate: {}\\nLambda Param: {}\\nN_Iters: {}\".format(self.c, self.lerning_rate, self.lambda_param, self.n_iters))\n",
    "\n",
    "    def score(self, x_test, y_test):\n",
    "        size = x_test.shape[0]      # Get data size\n",
    "        predict_correct = 0         # Count TP or TF\n",
    "\n",
    "        for index in range(size):\n",
    "\n",
    "            predict = self.predict(x_test[index].reshape(1,-1)) # Predict\n",
    "            # print(predict, y_test[index])\n",
    "\n",
    "            if (predict == y_test[index]):          # If correct predict\n",
    "                predict_correct += 1\n",
    "        \n",
    "        print(\"Accuracy: \", (predict_correct / size) * 100.00)     \n",
    "\n",
    "\n",
    "    def higeLoss(self,w, x, y, b):\n",
    "        fx = y * (np.dot(w, x) + b)\n",
    "\n",
    "        if fx >= 1:\n",
    "            return 0\n",
    "        elif fx < 1:\n",
    "            return 1 - fx\n",
    "        \n",
    "\n",
    "    def fit(self, x, y)-> None:\n",
    "        sample_size, feature_size = x.shape\n",
    "        \n",
    "        self.w = np.zeros(feature_size) # init feature\n",
    "        self.b = 0                      # init bias\n",
    "\n",
    "        for _ in range(self.n_iters):\n",
    "            for n_sameple, x_sample in enumerate(x):\n",
    "                # constrain = y[n_sameple] * (np.dot(self.w, x_sample + self.b))\n",
    "                constrain  = np.dot(self.w, self.w) + (self.c * self.higeLoss(self.w ,x_sample, y[n_sameple],self.b))\n",
    "                \n",
    "                if constrain < 1:\n",
    "                    self.w = self.w - (self.lerning_rate * (self.lambda_param * self.w - (y[n_sameple] * x_sample)) )\n",
    "                else:\n",
    "                    self.w = self.w - (self.lerning_rate * self.lambda_param * self.w)\n",
    "                \n",
    "\n",
    "\n",
    "\n",
    "    def predict(self , x):\n",
    "        approx = np.dot(x, self.w) - self.b\n",
    "        if approx > 1:\n",
    "            return 1\n",
    "        else:\n",
    "            return 0"
   ]
  },
  {
   "cell_type": "code",
   "execution_count": 208,
   "metadata": {},
   "outputs": [
    {
     "name": "stdout",
     "output_type": "stream",
     "text": [
      "C: 100\n",
      "Learning Rate: 0.001\n",
      "Lambda Param: 0.01\n",
      "N_Iters: 1000\n",
      "Accuracy:  88.49280800500313\n"
     ]
    }
   ],
   "source": [
    "model1 = SupportVectorMachine(C=100, debug=True)\n",
    "model1.fit(x_train, y_train)\n",
    "model1.score(x_test, y_test)"
   ]
  },
  {
   "cell_type": "code",
   "execution_count": 209,
   "metadata": {},
   "outputs": [],
   "source": [
    "# model = svm.SVC(kernel='linear')\n",
    "# model.fit(x_train, y_train)\n",
    "\n",
    "# y_pred = model.predict(x_test)\n",
    "# model.score(x_test, y_test)\n",
    "\n",
    "\n",
    "# print(\"Accuracy:\",metrics.accuracy_score(y_test, y_pred))\n",
    "# # print(\"Precision:\",metrics.precision_score(y_test, y_pred, average=\"weighted\"))\n",
    "# # print(\"Recall:\",metrics.f1_score(y_test, y_pred, average=\"macro\"))\n",
    "# print(classification_report(y_test, y_pred))\n"
   ]
  }
 ],
 "metadata": {
  "kernelspec": {
   "display_name": "Python 3",
   "language": "python",
   "name": "python3"
  },
  "language_info": {
   "codemirror_mode": {
    "name": "ipython",
    "version": 3
   },
   "file_extension": ".py",
   "mimetype": "text/x-python",
   "name": "python",
   "nbconvert_exporter": "python",
   "pygments_lexer": "ipython3",
   "version": "3.11.5"
  }
 },
 "nbformat": 4,
 "nbformat_minor": 2
}
