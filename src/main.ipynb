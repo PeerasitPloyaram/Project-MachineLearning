{
 "cells": [
  {
   "cell_type": "code",
   "execution_count": 1,
   "metadata": {},
   "outputs": [],
   "source": [
    "import numpy as np\n",
    "import pandas as pd\n",
    "import matplotlib.pyplot as plt\n",
    "\n",
    "from sklearn import svm\n",
    "from sklearn.metrics import f1_score\n",
    "from sklearn import metrics\n",
    "from sklearn.metrics import classification_report"
   ]
  },
  {
   "cell_type": "code",
   "execution_count": 2,
   "metadata": {},
   "outputs": [],
   "source": [
    "# from sklearn.model_selection import train_test_split\n",
    "from model_selection import train_test_split"
   ]
  },
  {
   "cell_type": "code",
   "execution_count": 3,
   "metadata": {},
   "outputs": [],
   "source": [
    "df = pd.read_csv('../data/waterQuality1.csv')\n",
    "# https://www.kaggle.com/datasets/mssmartypants/water-quality/data"
   ]
  },
  {
   "cell_type": "code",
   "execution_count": 4,
   "metadata": {},
   "outputs": [],
   "source": [
    "df = df.drop(df[df['ammonia'] == \"#NUM!\"].index)\n",
    "df['ammonia'] = df['ammonia'].astype('float')\n",
    "df['is_safe'] = df['is_safe'].astype('float')"
   ]
  },
  {
   "cell_type": "code",
   "execution_count": 5,
   "metadata": {},
   "outputs": [],
   "source": [
    "# df.info()"
   ]
  },
  {
   "cell_type": "code",
   "execution_count": 6,
   "metadata": {},
   "outputs": [],
   "source": [
    "\n",
    "x = np.array(df.drop(['is_safe'], axis=1))\n",
    "y = np.array(df['is_safe'].copy())"
   ]
  },
  {
   "cell_type": "code",
   "execution_count": 7,
   "metadata": {},
   "outputs": [
    {
     "name": "stdout",
     "output_type": "stream",
     "text": [
      "Data  Size: 7996\n",
      "Train Size: 6397\n",
      "Test  Size: 1599\n",
      "Train Size + Test Size: 7996\n"
     ]
    },
    {
     "data": {
      "text/plain": [
       "array([[4.000e-02, 9.350e+00, 1.000e-02, ..., 9.000e-02, 2.000e-02,\n",
       "        3.000e-02],\n",
       "       [2.000e-02, 2.464e+01, 6.000e-02, ..., 4.000e-02, 0.000e+00,\n",
       "        8.000e-02],\n",
       "       [7.000e-02, 1.996e+01, 6.700e-01, ..., 3.000e-02, 3.800e-01,\n",
       "        2.000e-02],\n",
       "       ...,\n",
       "       [8.000e-02, 1.504e+01, 0.000e+00, ..., 9.000e-02, 9.000e-02,\n",
       "        8.000e-02],\n",
       "       [7.000e-02, 6.360e+00, 4.000e-02, ..., 1.000e-02, 5.000e-02,\n",
       "        2.000e-02],\n",
       "       [2.460e+00, 1.514e+01, 7.500e-01, ..., 9.000e-02, 1.300e-01,\n",
       "        7.000e-02]])"
      ]
     },
     "execution_count": 7,
     "metadata": {},
     "output_type": "execute_result"
    }
   ],
   "source": [
    "x_train,x_test,y_train,y_test = train_test_split(x,y, testsize=0.2, debug=True)\n",
    "x_train\n"
   ]
  },
  {
   "cell_type": "code",
   "execution_count": 8,
   "metadata": {},
   "outputs": [
    {
     "name": "stdout",
     "output_type": "stream",
     "text": [
      "Accuracy: 0.9111944965603502\n",
      "              precision    recall  f1-score   support\n",
      "\n",
      "         0.0       0.92      0.99      0.95      1404\n",
      "         1.0       0.82      0.35      0.49       195\n",
      "\n",
      "    accuracy                           0.91      1599\n",
      "   macro avg       0.87      0.67      0.72      1599\n",
      "weighted avg       0.90      0.91      0.90      1599\n",
      "\n"
     ]
    }
   ],
   "source": [
    "model = svm.SVC(kernel='linear')\n",
    "model.fit(x_train, y_train)\n",
    "\n",
    "y_pred = model.predict(x_test)\n",
    "model.score(x_test, y_test)\n",
    "\n",
    "\n",
    "print(\"Accuracy:\",metrics.accuracy_score(y_test, y_pred))\n",
    "# print(\"Precision:\",metrics.precision_score(y_test, y_pred, average=\"weighted\"))\n",
    "# print(\"Recall:\",metrics.f1_score(y_test, y_pred, average=\"macro\"))\n",
    "print(classification_report(y_test, y_pred))\n"
   ]
  }
 ],
 "metadata": {
  "kernelspec": {
   "display_name": "Python 3",
   "language": "python",
   "name": "python3"
  },
  "language_info": {
   "codemirror_mode": {
    "name": "ipython",
    "version": 3
   },
   "file_extension": ".py",
   "mimetype": "text/x-python",
   "name": "python",
   "nbconvert_exporter": "python",
   "pygments_lexer": "ipython3",
   "version": "3.11.5"
  }
 },
 "nbformat": 4,
 "nbformat_minor": 2
}
